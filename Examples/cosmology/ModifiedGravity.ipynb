{
 "cells": [
  {
   "cell_type": "markdown",
   "metadata": {},
   "source": [
    "# Basic usage of MGCAMB"
   ]
  },
  {
   "cell_type": "markdown",
   "metadata": {},
   "source": [
    "Modified Growth with CAMB (MGCAMB) is a patch for the Einstein Boltzmann solver CAMB that intrdouces phenomenological Modifications of Growth (MG) along with dynamical dark energy. Official repository: https://github.com/sfu-cosmo/MGCAMB.\n",
    "\n",
    "Since MGCAMB is not fully included in CosmoBolognaLib yet, it is not possible for the moment to set MG parameters using an object of type Cosmology. However, here is a possible workaround to use it.\n",
    "\n",
    "First, import all CosmoBolognaLib and python modules:"
   ]
  },
  {
   "cell_type": "code",
   "execution_count": 1,
   "metadata": {},
   "outputs": [],
   "source": [
    "%matplotlib inline\n",
    "import CosmoBolognaLib as cbl\n",
    "\n",
    "import matplotlib as matplotlib\n",
    "import matplotlib.pyplot as plt\n",
    "import numpy as np"
   ]
  },
  {
   "cell_type": "markdown",
   "metadata": {},
   "source": [
    "Then set an object of class Cosmology (in this case with Planck 2018 parameters):"
   ]
  },
  {
   "cell_type": "code",
   "execution_count": 2,
   "metadata": {},
   "outputs": [],
   "source": [
    "cosm = cbl.Cosmology(cbl.CosmologicalModel__Planck18_)"
   ]
  },
  {
   "cell_type": "markdown",
   "metadata": {},
   "source": [
    "Let us see an easy application with CAMB, computing the linear matter power spectrum computed assuming a standard $\\Lambda$CDM model:"
   ]
  },
  {
   "cell_type": "code",
   "execution_count": 3,
   "metadata": {},
   "outputs": [],
   "source": [
    "kk = np.logspace(np.log10(1.e-3), np.log10(1.), 100)\n",
    "BoltzmannSolver = \"CAMB\"\n",
    "doNonLinear = False\n",
    "redshift = 0.\n",
    "storeOutput = True\n",
    "\n",
    "Pk = cosm.Pk_matter(kk, BoltzmannSolver, doNonLinear, redshift, storeOutput)"
   ]
  },
  {
   "cell_type": "markdown",
   "metadata": {},
   "source": [
    "In this case, CAMB outputs have been stored in CosmoBolognaLib/External/CAMB/output_linear, in a directory named accordingly to the selected cosmological parameters and redshift. The main advantage is that the Bolzmann solver will not be run again when considering the same Cosmology. Indeed, once the power spectrum file has been stored, it will be simply read automatically if you perform again the same analysis, speeding up the computation."
   ]
  },
  {
   "cell_type": "markdown",
   "metadata": {},
   "source": [
    "## fR4\n",
    "\n",
    "Let us now assume to want to compare standard General Relativity with $f(R)$ models (Hu & Sawicki, 2007), fixing in particular the parameter $f_{R0}=-10^{-4}$. \n",
    "Now it comes the trick: all the parameters related to MG can be set in the file CosmoBolognaLib/External/MGCAMB/params_MG.ini. \n",
    "The parameters to change in the file params_MG.ini are in this case MG_flag and F_R0. The user can modify this parameter manually or using a script like the following. \n",
    "\n",
    "First, let us copy the parameter file from the backup version that we prepared (this avoid a lot of troubles):"
   ]
  },
  {
   "cell_type": "code",
   "execution_count": 4,
   "metadata": {},
   "outputs": [
    {
     "data": {
      "text/plain": [
       "'../../External/MGCAMB/params_MG.ini'"
      ]
     },
     "execution_count": 4,
     "metadata": {},
     "output_type": "execute_result"
    }
   ],
   "source": [
    "import fileinput\n",
    "import os\n",
    "import shutil\n",
    "\n",
    "filename = \"../../External/MGCAMB/params_MG.ini\"\n",
    "filename_backup = \"../../External/MGCAMB/params_MG_backup.ini\"\n",
    "\n",
    "shutil.copy(filename_backup,filename)"
   ]
  },
  {
   "cell_type": "markdown",
   "metadata": {},
   "source": [
    "Then we modify this file with the characteristic parameters of the cosmological model we are investigating:"
   ]
  },
  {
   "cell_type": "code",
   "execution_count": 5,
   "metadata": {},
   "outputs": [],
   "source": [
    "text_to_search = [\"MG_flag = 0\",\"F_R0 = 0.001d0\"]\n",
    "text_to_replace = [\"MG_flag = 3\",\"F_R0 = 0.0001d0\"]\n",
    "\n",
    "for i in range(2):\n",
    "    with fileinput.FileInput(filename, inplace=True) as file:\n",
    "        [print(line.replace(text_to_search[i], text_to_replace[i]), end='') for line in file]"
   ]
  },
  {
   "cell_type": "markdown",
   "metadata": {},
   "source": [
    "With this method we modified the default strings MG_flag = 0 and F_R0 = 0.01d0 to MG_flag = 3 and F_R0 = 0.0001d0.\n",
    "\n",
    "Let us compute again the total matter power spectrum, using this time MGCAMB (prepared for $f(R)$ MG):"
   ]
  },
  {
   "cell_type": "code",
   "execution_count": 6,
   "metadata": {},
   "outputs": [],
   "source": [
    "BoltzmannSolver = \"MGCAMB\"\n",
    "cosmologyTag = \"fR4\"\n",
    "\n",
    "Pk_fR4 = cosm.Pk_matter(kk, BoltzmannSolver, doNonLinear, redshift, storeOutput, cosmologyTag)"
   ]
  },
  {
   "cell_type": "markdown",
   "metadata": {},
   "source": [
    "Please notice that in this case we decided to add a tag to the name of the stored files. This is because the MG parameters are not considered during the storing of the output files. Therefore two power spectra computed with the same cosmological parameters except, for instance, $f_{R0}$, will not be distinguished unless the user provides a string (different from the default \"test\") to differentiate the MG models. Another \"safe\" option is to remove the output files once computed the power spectrum setting storeOutput = False. This is discouraged if you plan to run the code several times but can can help you avoid reading the wrong output file accidentally (trust me...)."
   ]
  },
  {
   "cell_type": "markdown",
   "metadata": {},
   "source": [
    "## fR5\n",
    "\n",
    "Let us suppose now to repeat the computation for $f_{R0}=-10^{-5}$. We take again the file params_MG.ini from the backup version and change the strings we are interested in. Then we compute again the power spectrum, storing the output with a different tag."
   ]
  },
  {
   "cell_type": "code",
   "execution_count": 7,
   "metadata": {},
   "outputs": [],
   "source": [
    "shutil.copy(filename_backup,filename)\n",
    "\n",
    "text_to_search = [\"MG_flag = 0\",\"F_R0 = 0.001d0\"]\n",
    "text_to_replace = [\"MG_flag = 3\",\"F_R0 = 0.00001d0\"]\n",
    "\n",
    "for i in range(2):\n",
    "    with fileinput.FileInput(filename, inplace=True) as file:\n",
    "        [print(line.replace(text_to_search[i], text_to_replace[i]), end='') for line in file]\n",
    "\n",
    "cosmologyTag = \"fR5\"\n",
    "\n",
    "Pk_fR5 = cosm.Pk_matter(kk, BoltzmannSolver, doNonLinear, redshift, storeOutput, cosmologyTag)"
   ]
  },
  {
   "cell_type": "markdown",
   "metadata": {},
   "source": [
    "## Plotting\n",
    "\n",
    "Let us now visualise the power spectra computed with General Relativity (CAMB) and with a $f(R)$ model (MGCAMB):"
   ]
  },
  {
   "cell_type": "code",
   "execution_count": 8,
   "metadata": {},
   "outputs": [
    {
     "data": {
      "image/png": "[encoded data removed]",
      "text/plain": [
       "<Figure size 720x576 with 1 Axes>"
      ]
     },
     "metadata": {
      "needs_background": "light"
     },
     "output_type": "display_data"
    }
   ],
   "source": [
    "fig, ax = plt.subplots(1,1, figsize=(10,8))\n",
    "\n",
    "ax.plot(kk, Pk, label=\"GR\")\n",
    "ax.plot(kk, Pk_fR4, label=\"fR4\")\n",
    "ax.plot(kk, Pk_fR5, label=\"fR5\")\n",
    "\n",
    "ax.legend(loc='best', fontsize=20)\n",
    "ax.grid(zorder=0, color='lightgray')\n",
    "ax.get_yaxis().set_tick_params(which='both', direction='in', labelsize=20)\n",
    "ax.get_xaxis().set_tick_params(which='both', direction='in', labelsize=20)\n",
    "ax.set_xlabel(\"$k \\ [h \\ \\mathrm{Mpc}^{-1}]$\", fontsize=25)\n",
    "ax.set_ylabel(\"$P(k)$\", fontsize=22)\n",
    "ax.set_yscale('log')\n",
    "ax.set_xscale('log')"
   ]
  },
  {
   "cell_type": "markdown",
   "metadata": {},
   "source": [
    "Now you should be able to use MGCAMB as you prefer... have fun!!"
   ]
  },
  {
   "cell_type": "code",
   "execution_count": null,
   "metadata": {},
   "outputs": [],
   "source": []
  }
 ],
 "metadata": {
  "hide_input": false,
  "kernelspec": {
   "display_name": "Python 3",
   "language": "python",
   "name": "python3"
  },
  "language_info": {
   "codemirror_mode": {
    "name": "ipython",
    "version": 3
   },
   "file_extension": ".py",
   "mimetype": "text/x-python",
   "name": "python",
   "nbconvert_exporter": "python",
   "pygments_lexer": "ipython3",
   "version": "3.6.9"
  },
  "latex_envs": {
   "LaTeX_envs_menu_present": true,
   "autoclose": false,
   "autocomplete": true,
   "bibliofile": "biblio.bib",
   "cite_by": "apalike",
   "current_citInitial": 1,
   "eqLabelWithNumbers": true,
   "eqNumInitial": 1,
   "hotkeys": {
    "equation": "Ctrl-E",
    "itemize": "Ctrl-I"
   },
   "labels_anchors": false,
   "latex_user_defs": false,
   "report_style_numbering": false,
   "user_envs_cfg": false
  },
  "toc": {
   "base_numbering": 1,
   "nav_menu": {},
   "number_sections": true,
   "sideBar": true,
   "skip_h1_title": false,
   "title_cell": "Table of Contents",
   "title_sidebar": "Contents",
   "toc_cell": false,
   "toc_position": {},
   "toc_section_display": true,
   "toc_window_display": false
  }
 },
 "nbformat": 4,
 "nbformat_minor": 2
}
